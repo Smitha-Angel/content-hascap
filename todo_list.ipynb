{
  "nbformat": 4,
  "nbformat_minor": 0,
  "metadata": {
    "colab": {
      "provenance": [],
      "authorship_tag": "ABX9TyM7SC+5ZL4Acxq/Nk7YVwT3",
      "include_colab_link": true
    },
    "kernelspec": {
      "name": "python3",
      "display_name": "Python 3"
    },
    "language_info": {
      "name": "python"
    }
  },
  "cells": [
    {
      "cell_type": "markdown",
      "metadata": {
        "id": "view-in-github",
        "colab_type": "text"
      },
      "source": [
        "<a href=\"https://colab.research.google.com/github/Smitha-Angel/content-hascap/blob/main/todo_list.ipynb\" target=\"_parent\"><img src=\"https://colab.research.google.com/assets/colab-badge.svg\" alt=\"Open In Colab\"/></a>"
      ]
    },
    {
      "cell_type": "code",
      "execution_count": 1,
      "metadata": {
        "colab": {
          "base_uri": "https://localhost:8080/"
        },
        "id": "nL6rFoBdz6pt",
        "outputId": "2b35e4f8-1b3e-40e7-a2ea-8255f5cef562"
      },
      "outputs": [
        {
          "output_type": "stream",
          "name": "stdout",
          "text": [
            "\n",
            "To-Do List Menu:\n",
            "1. Add Task\n",
            "2. View Task\n",
            "3. Remove Task\n",
            "4. Quit\n",
            "enter your choice: 1\n",
            "Enter the task: wakeup at 5\n",
            "Task 'wakeup at 5' added to the to-do list.\n",
            "\n",
            "To-Do List Menu:\n",
            "1. Add Task\n",
            "2. View Task\n",
            "3. Remove Task\n",
            "4. Quit\n",
            "enter your choice: refresh\n",
            "Invalid choice. Please select a valid option.\n",
            "\n",
            "To-Do List Menu:\n",
            "1. Add Task\n",
            "2. View Task\n",
            "3. Remove Task\n",
            "4. Quit\n",
            "enter your choice: 1\n",
            "Enter the task: pray\n",
            "Task 'pray' added to the to-do list.\n",
            "\n",
            "To-Do List Menu:\n",
            "1. Add Task\n",
            "2. View Task\n",
            "3. Remove Task\n",
            "4. Quit\n",
            "enter your choice: 2\n",
            "To-do List:\n",
            "1. wakeup at 5\n",
            "2. pray\n",
            "\n",
            "To-Do List Menu:\n",
            "1. Add Task\n",
            "2. View Task\n",
            "3. Remove Task\n",
            "4. Quit\n",
            "enter your choice: 4\n",
            "Quitting the to-do list application. Goodbye!\n"
          ]
        }
      ],
      "source": [
        "todo_list=[]\n",
        "def add_task(task):\n",
        "  todo_list.append(task)\n",
        "  print(f\"Task '{task}' added to the to-do list.\")\n",
        "\n",
        "def view_task():\n",
        "  if not todo_list:\n",
        "    print(\"To-do list is empty.\")\n",
        "  else:\n",
        "    print(\"To-do List:\")\n",
        "    for index, task in enumerate(todo_list, start=1):\n",
        "      print(f\"{index}. {task}\")\n",
        "\n",
        "def remove_task(task_index):\n",
        "  if 0<task_index<=len(todo_list):\n",
        "    removed=todo_list.pop(task_number-1 )\n",
        "    print(f\"Task '{removed}' removed from the to-do list.\")\n",
        "  else:\n",
        "    print(\"Invalid task number.\")\n",
        "\n",
        "def show_menu():\n",
        "  while True:\n",
        "    print(\"\\nTo-Do List Menu:\")\n",
        "    print(\"1. Add Task\")\n",
        "    print(\"2. View Task\")\n",
        "    print(\"3. Remove Task\")\n",
        "    print(\"4. Quit\")\n",
        "\n",
        "    choice=input(\"enter your choice: \")\n",
        "\n",
        "    if choice==\"1\":\n",
        "      task=input(\"Enter the task: \")\n",
        "      add_task(task)\n",
        "    elif choice==\"2\":\n",
        "      view_task()\n",
        "    elif choice==\"3\":\n",
        "      task_number=int(input(\"Enter the task number to remove: \"))\n",
        "      remove_task(task_number)\n",
        "    elif choice==\"4\":\n",
        "      print(\"Quitting the to-do list application. Goodbye!\")\n",
        "      break\n",
        "    else:\n",
        "      print(\"Invalid choice. Please select a valid option.\")\n",
        "\n",
        "if __name__==\"__main__\":\n",
        "  show_menu()"
      ]
    }
  ]
}